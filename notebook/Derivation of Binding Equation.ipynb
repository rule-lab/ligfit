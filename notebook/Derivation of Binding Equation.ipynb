{
 "metadata": {
  "name": "Derivation of Binding Equation"
 }, 
 "nbformat": 2, 
 "worksheets": [
  {
   "cells": [
    {
     "cell_type": "code", 
     "collapsed": false, 
     "input": [
      "%%pylab", 
      "", 
      "import numpy as np", 
      "from sympy import*"
     ], 
     "language": "python", 
     "outputs": [], 
     "prompt_number": 1
    }, 
    {
     "cell_type": "markdown", 
     "source": [
      "The Binding Model", 
      "=================", 
      "", 
      "The binding model may be represented by the following graph", 
      "", 
      "$$P+L \\; \\underset{K_{D}^{'}}{\\rightleftharpoons} \\; P \\bullet L \\; \\underset{K_{D}^{''}}{\\rightleftharpoons} \\; P \\bullet L \\bullet P$$"
     ]
    }, 
    {
     "cell_type": "code", 
     "collapsed": true, 
     "input": [], 
     "language": "python", 
     "outputs": []
    }
   ]
  }
 ]
}