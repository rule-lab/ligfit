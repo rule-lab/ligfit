{
 "metadata": {
  "name": "Derivation of Binding Equation"
 },
 "nbformat": 3,
 "nbformat_minor": 0,
 "worksheets": [
  {
   "cells": [
    {
     "cell_type": "code",
     "collapsed": false,
     "input": [
      "%pylab inline\n",
      "\n",
      "import numpy as np\n",
      "from sympy import*\n",
      "\n",
      "init_printing(use_unicode=True)  # Print sympy's returned values"
     ],
     "language": "python",
     "metadata": {},
     "outputs": []
    },
    {
     "cell_type": "markdown",
     "metadata": {},
     "source": [
      "The Binding Model\n",
      "=================\n",
      "\n",
      "The binding model may be represented by the following graph\n",
      "\n",
      "$$P+L \\; \\underset{K_{D}^{'}}{\\rightleftharpoons} \\; P \\bullet L \\; \\underset{K_{D}^{''}}{\\rightleftharpoons} \\; P \\bullet L \\bullet P$$"
     ]
    },
    {
     "cell_type": "markdown",
     "metadata": {},
     "source": [
      "Equilibrium Dissociation Constants\n",
      "----------------------------------\n",
      "\n",
      "Considering $K_{D}$ as a general measure of affinity between $P$ and the dually-functional $L$, the equilibrium dissociation constants for each of the steps in the model, $K_{D}^{'}$ and $K_{D}^{''}$, can be considered to be a scalar function of $K_{D}$. We'll represent this in the following expressions.\n",
      "\n",
      "$$K_{D}^{'} = \\frac{1}{2}K_{D}$$\n",
      "\n",
      "$$K_{D}^{''} = \\frac{2}{\\alpha}K_{D}$$\n",
      "\n",
      "In the above expressions you should note the accounting for statistical effects given the multiplicity of binding sites on the ligand; there are two ways for $P$ to join to $L$ in the first step and only one way for $P \\bullet L$ to disassociate, while there is only one way for $P$ to join to $P \\bullet L$ and two ways for $P \\bullet L \\bullet P$ to disassociate. Additionally, $\\alpha$ is an expression of the degree of cooperativity in binding which may represent negative cooperativity *(0, 1)*, non-cooperativity *[1]*, and positive cooperativity *(1, $\\infty$)*.\n",
      "\n",
      "Since these are equilibrium dissocation constants they may also be expressed as the ratios of reactants over products:\n",
      "\n",
      "$$K_{D}^{'} = \\frac{1}{2}K_{D} = \\frac{[P][L]}{[P \\bullet L]}$$\n",
      "\n",
      "$$K_{D}^{''} = \\frac{2}{\\alpha}K_{D} \\frac{[P][P \\bullet L]}{[P \\bullet L \\bullet P]}$$"
     ]
    },
    {
     "cell_type": "code",
     "collapsed": true,
     "input": [
      "#Kd-prime and Kd-doubleprime as expressions of Kd and alpha (cooperativity)\n",
      "#as well as their concentration ratios\n",
      "kd, alpha, p, l, pl, plp = symbols('K_{D} alpha [P] [L] [PL] [PLP]')\n",
      "\n",
      "kd_p = Eq(kd / 2, p * l / pl)\n",
      "\n",
      "kd_p"
     ],
     "language": "python",
     "metadata": {},
     "outputs": []
    },
    {
     "cell_type": "code",
     "collapsed": false,
     "input": [
      "kd_pp = Eq(2 * kd / alpha, p * pl / plp)\n",
      "kd_pp"
     ],
     "language": "python",
     "metadata": {},
     "outputs": []
    },
    {
     "cell_type": "markdown",
     "metadata": {},
     "source": [
      "Mass Balance\n",
      "------------\n",
      "\n",
      "The following equations account for the distribution of the total ligand and total protein between the different species:\n",
      "\n",
      "$$[L]_{T} = [L] + [P \\bullet L] + [P \\bullet L \\bullet P]$$\n",
      "\n",
      "$$[P]_{T} = [P] + [P \\bullet L] + 2[P \\bullet L \\bullet P]$$"
     ]
    },
    {
     "cell_type": "code",
     "collapsed": false,
     "input": [
      "l_t, p_t = symbols('[L]_{T} [P]_{T}')\n",
      "\n",
      "#Represent L_total\n",
      "l_total = Eq(l_t, l + pl + plp)\n",
      "l_total"
     ],
     "language": "python",
     "metadata": {},
     "outputs": []
    },
    {
     "cell_type": "code",
     "collapsed": false,
     "input": [
      "#Represent P_total\n",
      "p_total = Eq(p_t, p + pl + 2 * plp)\n",
      "p_total"
     ],
     "language": "python",
     "metadata": {},
     "outputs": []
    },
    {
     "cell_type": "markdown",
     "metadata": {},
     "source": [
      "The mass balance equations may be combined with the equilibrium dissociation equations into a cubic form. Isolating $[P \\bullet L]$ and $[P \\bullet L \\bullet P]$ from their equations yields:\n",
      "\n",
      "$$[P \\bullet L] = 2 \\frac{[L] [P]}{K_{{D}}}$$\n",
      "\n",
      "$$[P \\bullet L \\bullet P] = \\frac{[P \\bullet L] [P] \\alpha}{2 K_{{D}}}$$\n",
      "\n",
      "Substituting the former into the latter yields:\n",
      "\n",
      "$$[P \\bullet L \\bullet P] = \\frac{[L] [P]^{2} \\alpha}{K_{{D}}^{2}}$$\n",
      "\n",
      "Which then allows us to express the free ligand concentration, $[L]$, in terms of $[L]_{T}$, $K_{D}$, $\\alpha$, and $[P]$. Which is as follows:\n",
      "\n",
      "$$[L] = \\frac{K_{{D}}^{2} [L]_{{T}}}{K_{{D}}^{2} + 2 K_{{D}} [P] + [P]^{2} \\alpha}$$"
     ]
    },
    {
     "cell_type": "code",
     "collapsed": false,
     "input": [
      "#Isolate PL from Kd'\n",
      "isol_pl = solvers.solve(kd_p, pl)[0]\n",
      "\n",
      "#Isolate PLP from Kd''\n",
      "isol_plp = solvers.solve(kd_pp, plp)[0]\n",
      "\n",
      "#Replace isolated PLP expression with new form using substituted isolated PL\n",
      "isol_plp = isol_plp.subs(pl, isol_pl)\n",
      "\n",
      "#Show isolated PL expresson\n",
      "isol_pl"
     ],
     "language": "python",
     "metadata": {},
     "outputs": []
    },
    {
     "cell_type": "code",
     "collapsed": false,
     "input": [
      "#Show isolated PLP expression\n",
      "isol_plp"
     ],
     "language": "python",
     "metadata": {},
     "outputs": []
    },
    {
     "cell_type": "code",
     "collapsed": false,
     "input": [
      "#Substitute these expressions into L_total\n",
      "subs_l_total = l_total.subs(plp, isol_plp)\n",
      "subs_l_total = subs_l_total.subs(pl, isol_pl)\n",
      "\n",
      "#Solve for L\n",
      "l_free = solvers.solve(subs_l_total, l)[0]\n",
      "#Show L_free\n",
      "l_free"
     ],
     "language": "python",
     "metadata": {},
     "outputs": []
    },
    {
     "cell_type": "markdown",
     "metadata": {},
     "source": [
      "In this fashion we can derive an expression for the total protein concentration, $[P]_{T}$, in terms of $[P]$, $K_{D}$, $\\alpha$, and $[L]$. Which is as follows:\n",
      "\n",
      "$$[P]_{{T}} = [P] + 2 \\frac{[L] [P]}{K_{{D}}} + 2 \\frac{[L] [P]^{2} \\alpha}{K_{{D}}^{2}}$$"
     ]
    },
    {
     "cell_type": "code",
     "collapsed": false,
     "input": [
      "#Substitute the isolated PL/PLP expressions into P_total\n",
      "subs_p_total = p_total.subs(plp, isol_plp)\n",
      "subs_p_total = subs_p_total.subs(pl, isol_pl)\n",
      "\n",
      "#Show P_total\n",
      "subs_p_total"
     ],
     "language": "python",
     "metadata": {},
     "outputs": []
    },
    {
     "cell_type": "markdown",
     "metadata": {},
     "source": [
      "By substituting the expression for free ligand concentration into our formula for total protein concentration, we can derive an expression for $[P]_{T}$ that depends instead on $[P]$, $K_{D}$, $\\alpha$, and $[L]_{T}$ which is:\n",
      "\n",
      "$$[P]_{{T}} = 2 \\frac{K_{{D}} [L]_{{T}} [P]}{K_{{D}}^{2} + 2 K_{{D}} [P] + [P]^{2} \\alpha} + 2 \\frac{[L]_{{T}} [P]^{2} \\alpha}{K_{{D}}^{2} + 2 K_{{D}} [P] + [P]^{2} \\alpha} + [P]$$"
     ]
    },
    {
     "cell_type": "code",
     "collapsed": false,
     "input": [
      "#Substitute in our l_free expression into sub_p_total to replace dependence on [L] with [L]_total\n",
      "subs_p_total = subs_p_total.subs(l, l_free)\n",
      "\n",
      "#Show subs_p_total\n",
      "subs_p_total"
     ],
     "language": "python",
     "metadata": {},
     "outputs": []
    },
    {
     "cell_type": "markdown",
     "metadata": {},
     "source": [
      "Rearrange P_Total to cubic form\n",
      "-------------------------------\n",
      "\n",
      "This equation for $[P]_{T}$ may be rearranged into a cubic function for $[P]$. The general form of this cubic function is:\n",
      "\n",
      "$$[P]^{3} + a[P]^{2} + b[P] + c = 0$$\n",
      "\n",
      "Refer to the sympy code below for the rearrangement process... The result is:\n",
      "\n",
      "$$[P]^{3} + \\frac{\\left(2 K_{{D}} + 2 [L]_{{T}} \\alpha - [P]_{{T}} \\alpha\\right)}{\\alpha}[P]^{2} + \\frac{\\left(K_{{D}}^{2} + 2 K_{{D}} [L]_{{T}} - 2 K_{{D}} [P]_{{T}}\\right)}{\\alpha}[P] - \\frac{K_{{D}}^{2} [P]_{{T}}}{\\alpha} = 0$$\n",
      "\n",
      "Where our coefficients $a$, $b$, and $c$ are:\n",
      "\n",
      "$$a = \\frac{\\left(2 K_{{D}} + 2 [L]_{{T}} \\alpha - [P]_{{T}} \\alpha\\right)}{\\alpha}$$\n",
      "$$b = \\frac{\\left(K_{{D}}^{2} + 2 K_{{D}} [L]_{{T}} - 2 K_{{D}} [P]_{{T}}\\right)}{\\alpha}$$\n",
      "$$c = \\frac{K_{{D}}^{2} [P]_{{T}}}{\\alpha}$$"
     ]
    },
    {
     "cell_type": "code",
     "collapsed": false,
     "input": [
      "#Rearrange P_total to the other side then expand\n",
      "p_expression = solvers.solve(subs_p_total, p_t)[0] - p_t\n",
      "p_expression = p_expression.expand()\n",
      "\n",
      "#Multiply the expression by the proper value to obtain [P]^(3) with coefficient of alpha\n",
      "p_expression = p_expression * (kd ** 2 + 2 * kd * p + p ** 2 * alpha)\n",
      "\n",
      "#Cancel through and show p_expression\n",
      "p_expression = cancel(p_expression)\n",
      "p_expression"
     ],
     "language": "python",
     "metadata": {},
     "outputs": []
    },
    {
     "cell_type": "code",
     "collapsed": false,
     "input": [
      "#Collect the terms of the polynomial with the same power of [P]\n",
      "power_coeffs = collect(p_expression, p, evaluate=False)\n",
      "\n",
      "#Normalize for coefficientless [P]**3 by dividing all terms by alpha and assign/display\n",
      "a, b, c = symbols('a b c')\n",
      "a = power_coeffs[p**2] / alpha\n",
      "b = power_coeffs[p**1] / alpha\n",
      "c = power_coeffs[p**0] / alpha\n",
      "\n",
      "a, b, c"
     ],
     "language": "python",
     "metadata": {},
     "outputs": []
    },
    {
     "cell_type": "code",
     "collapsed": false,
     "input": [
      "#Using these coefficients, compose our new cubic function\n",
      "cubic_p_expression = p ** 3 + a * p **2 + b * p + c\n",
      "cubic_p_expression\n",
      "#For the latex representation in the markdown, I simply rearranged this equation into\n",
      "#power order and clarified this by placing [P]**n beside the fraction"
     ],
     "language": "python",
     "metadata": {},
     "outputs": []
    },
    {
     "cell_type": "markdown",
     "metadata": {},
     "source": [
      "There exists only one real solution to a cubic function, whose value would represent the appropiate value of $[P]$ given the equilibrium system's specific traits of $K_{D}$, $\\alpha$, $[L]_{T}$, and $[P]_{T}$. The solution takes the following form:\n",
      "\n",
      "\\begin{align}[P] &= -\\frac{a}{3} + \\sqrt[3]{R + \\sqrt{Q^{3} + R^{2}}} + \\sqrt[3]{R - \\sqrt{Q^{3} + R^{2}}} \\\\\n",
      "Q &= \\frac{3b - a^{2}}{9} \\\\\n",
      "R &= \\frac{9ab - 27c -2a^{3}}{54}\n",
      "\\end{align}"
     ]
    },
    {
     "cell_type": "markdown",
     "metadata": {},
     "source": [
      "Expressions for $[P \\bullet L]$ and $[P \\bullet L \\bullet P]$ which are functions solely of $K_{D}$, $\\alpha$, $[L]_{T}$, and $[P]$, we can begin by substituting our equation for free ligand,\n",
      "\n",
      "$$[L] = \\frac{K_{{D}}^{2} [L]_{{T}}}{K_{{D}}^{2} + 2 K_{{D}} [P] + [P]^{2} \\alpha}$$\n",
      "\n",
      "into the equations for $[P \\bullet L]$ and $[P \\bullet L \\bullet P]$ isolated from the equilibrium dissociaton constant equations to yield:\n",
      "\n",
      "$$[a \\bullet L] = 2 \\frac{K_{{D}} [L]_{{T}} [P]}{K_{{D}}^{2} + 2 K_{{D}} [P] + [P]^{2} \\alpha}$$\n",
      "\n",
      "and\n",
      "\n",
      "$$[P \\bullet L \\bullet P] = \\frac{[L]_{{T}} [P]^{2} \\alpha}{K_{{D}}^{2} + 2 K_{{D}} [P] + [P]^{2} \\alpha}$$\n",
      "\n",
      "Having already derived a means of solving for [P] as a function of $K_{D}$, $\\alpha$, and $[L]_{T}$, it is simple to solve for these species in addition."
     ]
    },
    {
     "cell_type": "code",
     "collapsed": false,
     "input": [
      "pl_expr = isol_pl.subs(l, l_free)\n",
      "pl_expr"
     ],
     "language": "python",
     "metadata": {},
     "outputs": []
    },
    {
     "cell_type": "code",
     "collapsed": false,
     "input": [
      "plp_expr = isol_plp.subs(l, l_free)\n",
      "plp_expr"
     ],
     "language": "python",
     "metadata": {},
     "outputs": []
    },
    {
     "cell_type": "markdown",
     "metadata": {},
     "source": [
      "Putting the model to work\n",
      "-------------------------\n",
      "\n",
      "Now we'll have a demonstration putting this work together into a predictive model. In an experimental setting, the researcher will not know the values of $K_{D}$ and $\\alpha$ from the beginning but must instead fit their data according to the model and find the values that best explain their observations."
     ]
    },
    {
     "cell_type": "code",
     "collapsed": false,
     "input": [
      "#First we need to be able to calculate our cubic polynomial constants\n",
      "def calc_abc(kd, alpha, p_total, l_total):\n",
      "    a = 2.0 * kd / alpha + 2.0 * l_total - p_total\n",
      "    b = (np.power(kd, 2.0) + 2.0 * kd * l_total - 2.0 * kd * p_total) / alpha\n",
      "    c = -1 * (np.power(kd, 2.0) * p_total) / alpha\n",
      "    return a, b, c\n",
      "\n",
      "#Secondly we need to calculate the Q and R for the cubic solution\n",
      "def calc_qr(a, b, c):\n",
      "    q = (3 * b - np.power(a, 2)) / 9\n",
      "    r = (9 * a * b - 27 * c - 2.0 * np.power(a, 3)) / 54\n",
      "    return q, r\n",
      "\n",
      "#Thirdly we need to be able to solve the cubic formula in either cartesian or polar coords\n",
      "def cartesian_cubic(a, q, r):  # For use if Q^3+R^2 > 0\n",
      "    first = -1 * a / 3.0\n",
      "    second = np.power(r + np.power(np.power(q, 3.0) + np.power(r, 2.0), 0.5), 1.0 / 3.0)\n",
      "    third = np.power(r - np.power(np.power(q, 3.0) + np.power(r, 2.0), 0.5), 1.0 / 3.0)\n",
      "    return first + second + third\n",
      "\n",
      "def polar_cubic(a, q, r):  # For use if Q^3+R^2 < 0\n",
      "    theta =  np.arccos(r / np.power(-1 * np.power(q, 3), 0.5))\n",
      "    return np.cos(theta / 3.0) * np.power(-1 * q, 0.5) * 2.0 - (a / 3.0)\n",
      "\n",
      "#If we wish to plot [PL] and [PLP] as well, we need these\n",
      "def get_pl(kd, alpha, l_total, p):\n",
      "    numerator = 2.0 * kd * l_total * p\n",
      "    denominator = np.power(kd, 2.0) + 2.0 * kd * p + alpha * np.power(p, 2.0)\n",
      "    return numerator / denominator\n",
      "\n",
      "def get_plp(kd, alpha, l_total, p):\n",
      "    numerator = alpha * l_total * np.power(p, 2.0)\n",
      "    denominator = np.power(kd, 2.0) + 2.0 * kd * p + alpha * np.power(p, 2.0)\n",
      "    return numerator / denominator"
     ],
     "language": "python",
     "metadata": {},
     "outputs": []
    },
    {
     "cell_type": "code",
     "collapsed": false,
     "input": [
      "def model_func(kd, alpha, p_total, l_total):\n",
      "    a, b, c = calc_abc(kd, alpha, p_total, l_total)\n",
      "    q, r = calc_qr(a, b, c)\n",
      "    p = []\n",
      "    for a_val, q_val, r_val in zip(a, q, r):\n",
      "        if np.power(q_val, 3) + np.power(r_val, 2) > 0:\n",
      "            p.append(cartesian_cubic(a_val, q_val, r_val))\n",
      "        else:\n",
      "            p.append(polar_cubic(a_val, q_val, r_val))\n",
      "    p = np.array(p)\n",
      "    pl = get_pl(kd, alpha, l_total, p)\n",
      "    plp = get_plp(kd, alpha, l_total, p)\n",
      "    return p, pl, plp"
     ],
     "language": "python",
     "metadata": {},
     "outputs": []
    },
    {
     "cell_type": "code",
     "collapsed": false,
     "input": [
      "#Create the plot\n",
      "plot = pylab.figure().add_subplot(111)\n",
      "\n",
      "total_protein = 0.1\n",
      "\n",
      "lig_range = 0.00001 * np.power(10, linspace(1, 8, 150))\n",
      "p, pl, plp = model_func(0.02, 0.05, total_protein, lig_range)\n",
      "\n",
      "plot.plot(lig_range, p / total_protein, label='[P]')\n",
      "plot.plot(lig_range, pl / total_protein, label='[PL]')\n",
      "plot.plot(lig_range, plp / total_protein, label='[PLP]')\n",
      "plot.set_ylabel('[P]')\n",
      "plot.set_xscale('log')\n",
      "plot.set_xlabel(r'Ligand (uM)')\n",
      "plot.legend(loc='center right')\n",
      "plot.grid()\n"
     ],
     "language": "python",
     "metadata": {},
     "outputs": []
    },
    {
     "cell_type": "markdown",
     "metadata": {},
     "source": [
      "This work is based on **Exact Analysis of Ligand-Induced Dimerization of Monomeric Receptors\n",
      "Eric T. Mack, Raquel Perez-Castillejos, Zhigang Suo, and George M. Whitesides\n",
      "*Analytical Chemistry* 2008 *80* (14), 5550-5555** http://dx.doi.org/10.1021%2Fac800578w"
     ]
    }
   ],
   "metadata": {}
  }
 ]
}