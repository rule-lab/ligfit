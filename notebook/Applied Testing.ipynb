{
 "metadata": {
  "name": "Applied Testing"
 },
 "nbformat": 3,
 "nbformat_minor": 0,
 "worksheets": [
  {
   "cells": [
    {
     "cell_type": "code",
     "collapsed": false,
     "input": [
      "%pylab\n",
      "\n",
      "import numpy as np\n",
      "import scipy\n",
      "import math"
     ],
     "language": "python",
     "metadata": {},
     "outputs": []
    },
    {
     "cell_type": "code",
     "collapsed": false,
     "input": [
      "def calc_abc(kd, p_total, l_total, alpha):\n",
      "    a = 2.0 * kd / alpha + 2.0 * l_total * p_total\n",
      "    b = (math.pow(kd, 2.0) + 2 * kd * l_total - 2 * kd * p_total) / alpha\n",
      "    c = (math.pow(kd, 2) * p_total) / alpha\n",
      "    return a, b, c"
     ],
     "language": "python",
     "metadata": {},
     "outputs": []
    },
    {
     "cell_type": "code",
     "collapsed": false,
     "input": [
      "def calc_qr(a, b, c):\n",
      "    q = (3 * b - math.pow(a, 2)) / 9\n",
      "    r = (9 * a * b - 27 * c - 2 * math.pow(a, 3)) / 54\n",
      "    return q, r"
     ],
     "language": "python",
     "metadata": {},
     "outputs": []
    },
    {
     "cell_type": "code",
     "collapsed": false,
     "input": [
      "def cartesian_cubic(a, q, r):\n",
      "    first = -1 * a / 3.0\n",
      "    second = math.pow(r + math.pow(math.pow(q, 3.0) + math.pow(r, 2.0), 1.0 / 2.0), 1.0 / 3.0)\n",
      "    third = math.pow(r - math.pow(math.pow(q, 3.0) + math.pow(r, 2.0), 1.0 / 2.0), 1.0 / 3.0)\n",
      "    return first + second + third\n",
      "\n",
      "def polar_cubic(a, q, r):\n",
      "    theta =  math.acos(r / math.pow(-1 * math.pow(q, 3), 1.0 / 2.0))\n",
      "    foo = math.cos(theta / 3.0) * math.pow(-1 * q, 1.0 / 2.0) * 2 - (a / 3.0)"
     ],
     "language": "python",
     "metadata": {},
     "outputs": []
    },
    {
     "cell_type": "code",
     "collapsed": false,
     "input": [
      "#Use of cartesian or cubic depends on Q^3 + R^2\n",
      "if math.pow(q, 3.0) + math.pow(r, 2.0) > 0:\n",
      "    cartesian_cubic(a,q,r)\n",
      "else:\n",
      "    polar_cubic(a, q, r)"
     ],
     "language": "python",
     "metadata": {},
     "outputs": []
    },
    {
     "cell_type": "code",
     "collapsed": false,
     "input": [
      "#Normalize all values to uM\n",
      "kd = 1\n",
      "p_total = .1\n",
      "alpha = 1\n",
      "\n"
     ],
     "language": "python",
     "metadata": {},
     "outputs": []
    },
    {
     "cell_type": "code",
     "collapsed": false,
     "input": [],
     "language": "python",
     "metadata": {},
     "outputs": []
    }
   ],
   "metadata": {}
  }
 ]
}