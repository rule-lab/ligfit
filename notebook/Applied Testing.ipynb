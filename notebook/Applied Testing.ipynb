{
 "metadata": {
  "name": "Applied Testing"
 },
 "nbformat": 3,
 "nbformat_minor": 0,
 "worksheets": [
  {
   "cells": [
    {
     "cell_type": "code",
     "collapsed": false,
     "input": [
      "%pylab inline\n",
      "\n",
      "import numpy as np\n",
      "import scipy\n",
      "import math"
     ],
     "language": "python",
     "metadata": {},
     "outputs": [
      {
       "output_type": "stream",
       "stream": "stdout",
       "text": [
        "\n",
        "Welcome to pylab, a matplotlib-based Python environment [backend: module://IPython.zmq.pylab.backend_inline].\n",
        "For more information, type 'help(pylab)'.\n"
       ]
      }
     ],
     "prompt_number": 1
    },
    {
     "cell_type": "code",
     "collapsed": false,
     "input": [
      "def calc_abc(kd, p_total, l_total, alpha):\n",
      "    a = 2.0 * kd / alpha + 2.0 * l_total - p_total\n",
      "    b = (math.pow(kd, 2.0) + 2 * kd * l_total - 2 * kd * p_total) / alpha\n",
      "    c = -1 * (math.pow(kd, 2) * p_total) / alpha\n",
      "    return a, b, c"
     ],
     "language": "python",
     "metadata": {},
     "outputs": [],
     "prompt_number": 2
    },
    {
     "cell_type": "code",
     "collapsed": false,
     "input": [
      "def calc_qr(a, b, c):\n",
      "    q = (3 * b - math.pow(a, 2.0)) / 9\n",
      "    r = (9 * a * b - 27 * c - 2 * math.pow(a, 3.0)) / 54\n",
      "    return q, r"
     ],
     "language": "python",
     "metadata": {},
     "outputs": [],
     "prompt_number": 3
    },
    {
     "cell_type": "code",
     "collapsed": false,
     "input": [
      "def cartesian_cubic(a, q, r):\n",
      "    first = -1 * a / 3.0\n",
      "    second = math.pow(r + math.pow(math.pow(q, 3.0) + math.pow(r, 2.0), 0.5), 1.0 / 3.0)\n",
      "    third = math.pow(r - math.pow(math.pow(q, 3.0) + math.pow(r, 2.0), 0.5), 1.0 / 3.0)\n",
      "    return first + second + third\n",
      "\n",
      "def polar_cubic(a, q, r):\n",
      "    theta =  math.acos(r / math.pow(-1 * math.pow(q, 3), 1.0 / 2.0))\n",
      "    return math.cos(theta / 3.0) * math.pow(-1 * q, 1.0 / 2.0) * 2 - (a / 3.0)"
     ],
     "language": "python",
     "metadata": {},
     "outputs": [],
     "prompt_number": 13
    },
    {
     "cell_type": "code",
     "collapsed": false,
     "input": [
      "def model(kd, p_total, l_total, alpha):\n",
      "    a, b, c = calc_abc(kd, p_total, l_total, alpha)\n",
      "    q, r = calc_qr(a, b, c)\n",
      "    #Use of cartesian or cubic depends on Q^3 + R^2\n",
      "    if math.pow(q, 3.0) + math.pow(r, 2.0) > 0:\n",
      "         return cartesian_cubic(a,q,r)\n",
      "    else:\n",
      "        print(polar_cubic(a, q, r))\n",
      "        return polar_cubic(a, q, r)\n",
      "            "
     ],
     "language": "python",
     "metadata": {},
     "outputs": [],
     "prompt_number": 10
    },
    {
     "cell_type": "code",
     "collapsed": false,
     "input": [
      "#Normalize all values to uM\n",
      "kd = 1\n",
      "p_total = .1\n",
      "alpha = 1\n",
      "\n",
      "#Create the plot\n",
      "plot = pylab.figure().add_subplot(111)\n",
      "\n",
      "lig_range = [0.00001 * math.pow(10, lig_val) for lig_val in np.linspace(1, 10, 91)]\n",
      "model_vals = [model(kd, p_total, l_total, alpha) / p_total for l_total in lig_range]\n",
      "\n",
      "plot.plot(lig_range, model_vals)\n",
      "plot.set_ylabel('[P]')\n",
      "plot.set_xscale('log')\n",
      "plot.set_xlabel(r'Ligand (uM)')\n",
      "plot.grid()"
     ],
     "language": "python",
     "metadata": {},
     "outputs": [
      {
       "output_type": "display_data",
       "png": "[encoded data removed]",
       "text": [
        "<matplotlib.figure.Figure at 0xb34ea4c>"
       ]
      }
     ],
     "prompt_number": 12
    },
    {
     "cell_type": "code",
     "collapsed": false,
     "input": [],
     "language": "python",
     "metadata": {},
     "outputs": [],
     "prompt_number": 6
    }
   ],
   "metadata": {}
  }
 ]
}