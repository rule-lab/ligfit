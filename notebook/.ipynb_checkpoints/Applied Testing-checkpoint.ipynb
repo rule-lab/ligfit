{
 "cells": [
  {
   "cell_type": "code",
   "execution_count": 1,
   "metadata": {
    "collapsed": false
   },
   "outputs": [
    {
     "name": "stdout",
     "output_type": "stream",
     "text": [
      "Populating the interactive namespace from numpy and matplotlib\n"
     ]
    }
   ],
   "source": [
    "%pylab inline\n",
    "\n",
    "import numpy as np\n",
    "import scipy\n",
    "import math"
   ]
  },
  {
   "cell_type": "code",
   "execution_count": 2,
   "metadata": {
    "collapsed": false
   },
   "outputs": [],
   "source": [
    "def calc_abc(kd, p_total, l_total, alpha):\n",
    "    a = 2.0 * kd / alpha + 2.0 * l_total - p_total\n",
    "    b = (math.pow(kd, 2.0) + 2 * kd * l_total - 2 * kd * p_total) / alpha\n",
    "    c = -1 * (math.pow(kd, 2) * p_total) / alpha\n",
    "    return a, b, c"
   ]
  },
  {
   "cell_type": "code",
   "execution_count": 3,
   "metadata": {
    "collapsed": false
   },
   "outputs": [],
   "source": [
    "def calc_qr(a, b, c):\n",
    "    q = (3 * b - math.pow(a, 2.0)) / 9\n",
    "    r = (9 * a * b - 27 * c - 2 * math.pow(a, 3.0)) / 54\n",
    "    return q, r"
   ]
  },
  {
   "cell_type": "code",
   "execution_count": 4,
   "metadata": {
    "collapsed": false
   },
   "outputs": [],
   "source": [
    "def cartesian_cubic(a, q, r):\n",
    "    first = -1 * a / 3.0\n",
    "    second = math.pow(r + math.pow(math.pow(q, 3.0) + math.pow(r, 2.0), 0.5), 1.0 / 3.0)\n",
    "    third = math.pow(r - math.pow(math.pow(q, 3.0) + math.pow(r, 2.0), 0.5), 1.0 / 3.0)\n",
    "    return first + second + third\n",
    "\n",
    "def polar_cubic(a, q, r):\n",
    "    theta =  math.acos(r / math.pow(-1 * math.pow(q, 3), 1.0 / 2.0))\n",
    "    return math.cos(theta / 3.0) * math.pow(-1 * q, 1.0 / 2.0) * 2 - (a / 3.0)"
   ]
  },
  {
   "cell_type": "code",
   "execution_count": 5,
   "metadata": {
    "collapsed": false
   },
   "outputs": [],
   "source": [
    "def model(kd, p_total, l_total, alpha):\n",
    "    a, b, c = calc_abc(kd, p_total, l_total, alpha)\n",
    "    q, r = calc_qr(a, b, c)\n",
    "    #Use of cartesian or cubic depends on Q^3 + R^2\n",
    "    if math.pow(q, 3.0) + math.pow(r, 2.0) > 0:\n",
    "         return cartesian_cubic(a,q,r)\n",
    "    else:\n",
    "        print(polar_cubic(a, q, r))\n",
    "        return polar_cubic(a, q, r)\n",
    "            "
   ]
  },
  {
   "cell_type": "code",
   "execution_count": 6,
   "metadata": {
    "collapsed": false
   },
   "outputs": [
    {
     "name": "stdout",
     "output_type": "stream",
     "text": [
      "0.09998182118663046\n",
      "0.09997711520918129\n",
      "0.09997119130722754\n",
      "0.09996373446396634\n",
      "0.09995434829242944\n",
      "0.09994253408100284\n",
      "0.09992766448003654\n",
      "0.09990895048088444\n",
      "0.09988540001214075\n",
      "0.09985576607980173\n",
      "0.09981848189762121\n",
      "0.09977157988152197\n",
      "0.09971259071223315\n",
      "0.09963841790694927\n",
      "0.09954518250412447\n",
      "0.0994280316053412\n",
      "0.09928090373368315\n",
      "0.09909624343804124\n",
      "0.09886465760107177\n",
      "0.09857450698834214\n",
      "0.09821142947811456\n",
      "0.09775779729340806\n",
      "0.09719212108600284\n",
      "0.0964884311580596\n",
      "0.09561569327544162\n",
      "0.09453735647029071\n",
      "0.09321118522815441\n",
      "0.09158959790541576\n",
      "0.08962080979873699\n",
      "0.08725114305336645\n",
      "0.08442887702247603\n",
      "0.08110990857711675\n",
      "0.07726519341610671\n",
      "0.07288938669152634\n",
      "0.06800932439958196\n",
      "0.06269019700191225\n",
      "0.05703689131967171\n",
      "0.05118852097551296\n",
      "0.0453058488212974\n",
      "0.039553674071090006\n",
      "0.034082207965583144\n",
      "0.02901188945575517\n",
      "0.024424729746281626\n",
      "0.02036291790958078\n",
      "0.016833299039193506\n",
      "0.013815263923823817\n",
      "0.011269620792015989\n",
      "0.009146711193775747\n",
      "0.007392873694965552\n",
      "0.00595503245647766\n",
      "0.00478359412570839\n",
      "0.0038340114952575277\n",
      "0.0030673970397909756\n",
      "0.0024505181080449745\n",
      "0.0019554285842708907\n",
      "0.0015589166323941583\n",
      "0.0012418861987804064\n",
      "0.000988743790109936\n",
      "0.0007868300035269726\n",
      "0.000625914332964328\n",
      "0.000497758846691454\n",
      "0.00039574890126914397\n",
      "0.0003145851555785839\n",
      "0.0002500295573781841\n",
      "0.00019869754484602709\n",
      "0.00015788916641668038\n",
      "0.00012545250280027176\n",
      "9.967361017970688e-05\n",
      "7.918820045915709e-05\n",
      "6.291058537044592e-05\n",
      "4.997747510060435e-05\n",
      "3.970223326632549e-05\n",
      "3.153888519591419e-05\n",
      "2.5053930357898935e-05\n",
      "1.9902170379282325e-05\n",
      "1.5809526303200983e-05\n",
      "1.2557242371258326e-05\n",
      "9.976409728551516e-06\n",
      "7.925065801828168e-06\n",
      "6.291312274697702e-06\n",
      "5.014466296415776e-06\n",
      "3.975330400862731e-06\n",
      "3.1461240723729134e-06\n",
      "2.510108970454894e-06\n",
      "1.947966666193679e-06\n",
      "1.6051089914981276e-06\n",
      "1.1585289030335844e-06\n",
      "1.0417134035378695e-06\n",
      "5.966285243630409e-07\n",
      "5.377587513066828e-07\n",
      "-2.0960578694939613e-07\n"
     ]
    },
    {
     "data": {
      "image/png": "[encoded data removed]",
      "text/plain": [
       "<matplotlib.figure.Figure at 0xa61eb52c>"
      ]
     },
     "metadata": {},
     "output_type": "display_data"
    }
   ],
   "source": [
    "#Normalize all values to uM\n",
    "kd = 1\n",
    "p_total = .1\n",
    "alpha = 1\n",
    "\n",
    "#Create the plot\n",
    "plot = pylab.figure().add_subplot(111)\n",
    "\n",
    "lig_range = [0.00001 * math.pow(10, lig_val) for lig_val in np.linspace(1, 10, 91)]\n",
    "model_vals = [model(kd, p_total, l_total, alpha) / p_total for l_total in lig_range]\n",
    "\n",
    "plot.plot(lig_range, model_vals)\n",
    "plot.set_ylabel('[P]')\n",
    "plot.set_xscale('log')\n",
    "plot.set_xlabel(r'Ligand (uM)')\n",
    "plot.grid()"
   ]
  },
  {
   "cell_type": "code",
   "execution_count": null,
   "metadata": {
    "collapsed": false
   },
   "outputs": [],
   "source": []
  }
 ],
 "metadata": {
  "kernelspec": {
   "display_name": "Python 3",
   "language": "python",
   "name": "python3"
  },
  "language_info": {
   "codemirror_mode": {
    "name": "ipython",
    "version": 3
   },
   "file_extension": ".py",
   "mimetype": "text/x-python",
   "name": "python",
   "nbconvert_exporter": "python",
   "pygments_lexer": "ipython3",
   "version": "3.4.0"
  }
 },
 "nbformat": 4,
 "nbformat_minor": 0
}
